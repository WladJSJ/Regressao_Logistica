{
 "cells": [
  {
   "cell_type": "markdown",
   "metadata": {},
   "source": [
    "<hr>\n",
    "<h1> Regressão Logística Aplicada ao SASD Memory Effect </h1>\n",
    "<hr>\n",
    "\n",
    "<h2><strong>Resumo</strong></h2>\n",
    "Utilizando variáveis que são pertinentes ao SASD memory effect e ao clima regional do estado de São Paulo, montamos um modelo de regressão logística para predizer o sinal das anomalias de temperatura entre Junho e Agosto, com aproximadamente um ano de antecedência. Esse modelo estatístico apresentou, dentro do conjunto de treinamento, valores de acurácia, precisão e recall de aproximadamente 70%. Ao analizarmos apenas situações de neutralidade de El Nino - Oscilação Sul, observamos uma performace geral de aproximadamente 80%. Notamos que, embora ENSO e SASD sejam conhecidos por seus efeitos no continente sulamericano, o modelo apontou para o SASD, ocorrido no ano anterior, como seu principal componente preditivo. Isso indica a importância do SASD memory effect para o clima regional do sudeste brasileiro e evidencia o potencial de seu uso como indicador preditivo.\n",
    "\n",
    "\n",
    "<h2><strong>Introdução</strong></h2>\n",
    "\n",
    "\n",
    "<strong>Sobre o SASD Memory Effect:</strong>\n",
    "\n",
    "Existe um padrão de variabilidade acoplada chamado Dipolo Subtropical do Atlântic Sul (SASD, do inglês) que conecta a variabilidade atmosférica (variabilidade da Alta Subtropical) com a variabilidade das anomalias de temperatura da superfície do mar (TSM) no Atlântico Sul.\n",
    "\n",
    "Santis et al. 2020 descreveu que, quando um evento de SASD ocorre durante o inverno-primavera, existe um processo oceânico que armazena as anomalias de TSM em camadas mais produndas do oceano, e que no ano seguinte retornam à superfície. Esse processo constitui um efeito de memória ao SASD.\n",
    "\n",
    "Muito bem. O efeito de memória traz imediatamente a idéia de previsibilidade. Seria possível então, dado um evento de SASD na época certa, predizer que no ano seguinte observaremos condições específicas, determinadas por esse efeito de memória. Posteriormente, foi verificado que as anomalias de TSM que retornam no ano seguinte impactam na atmosfera. Especificamente, anomalias de temperatura do ar em superfície são observadas no estado de São Paulo entre junho, julho e agosto, e estão associadas ao efeito de memória. Vamos aqui aplicar um modelo de regressão logística ao SASD memory effect, com o intuito de  estimar a probabilidade de, dado um evento de SASD num determinado inverno-primavera, observarmos anomalias quentes ou frias sobre o estado de São Paulo no inverno do ano subsequente.\n",
    "\n",
    "<strong> Sobre a Regressão Logística:</strong>"
   ]
  },
  {
   "cell_type": "markdown",
   "metadata": {},
   "source": [
    "A regressão logistica nos oferece um modelo regressor para variáveis categóricas, como por exemplo Y = (SIM , NÃO), Y = (Sucesso , Fracasso). \n",
    "\n",
    "A regressão nos dá, pois, a chance de um conjunto de observações ($X$) resultarem em uma determinada classe admitida por Y. O ajuste se dá com o uso da função sigmoide, dada por:\n",
    "\n",
    "Função de ajuste: $\\sigma(z) = \\frac{1}{1+e^{-z}}$"
   ]
  },
  {
   "cell_type": "markdown",
   "metadata": {},
   "source": [
    "donde:\n",
    "<li>$z=\\beta^T X $\n",
    "<li>$\\beta= \\beta_0, \\beta_1 , \\beta_2, ..., \\beta_n $ são coeficientes da função de ajuste</li>\n",
    "<li>$X= X_1 , X_2 , ..., X_n $ são as variáveis independentes</li>\n",
    "<li>$\\beta^T X= \\beta_0+ \\beta_1 X_1 , \\beta_2 X_2 , ..., \\beta_n X_n $ é a combinação linear de todas as variáveis independentes</li>\n",
    "\n",
    "O que se faz na regressão logistica é encontrar os coeficientes $\\beta$ que maximizam a verossimilhança, ou, equivalentemente, minimizam a função custo (erro).\n",
    "\n"
   ]
  },
  {
   "cell_type": "markdown",
   "metadata": {},
   "source": [
    "<h1> Objetivo do Estudo: </h1>\n",
    "\n",
    "Aplicar o modelo de Regressão Logística</strong> ao SASD memory effect, para verificarmos se conseguimos predizer o sinal das anomalias de temperatura sobre São Paulo, entre Junho e Julho, com cerca de um ano de antecedência.\n",
    "\n",
    "Assim, temos:\n",
    "\n",
    "- Y = sinal da anomalia de temperatura do ar sobre o estado de São Paulo (aproximadamente), tomada entre Junho e Agosto;\n",
    "\n",
    "    Defino Y=0 para anomalias negativas, e Y=1 para anomalias positivas;\n",
    "\n",
    "<h2> É preciso estabelecer quais variáveis ($X$) são relevantes ao problema.</h2>\n",
    "<li><h3> Vamos elencar inicialmente três variáveis independentes: </li>\n",
    "   "
   ]
  },
  {
   "cell_type": "markdown",
   "metadata": {},
   "source": [
    "<li>$X_1$: SASDIy0[julho ano 0], precursora do efeito de memória;</li>\n",
    "<li>$X_2$: SASDIy1[julho ano 1]; pode influenciar o clima na região de interesse</li>\n",
    "<li>$X_3$: ENSO[julho ano 1]; pode influenciar o clima na região de interesse</li>\n",
    "\n",
    "- SASDI é uma medida do SASD (SASD Index), e é o prinpical índice envolvido no efeito de memória. O SASDI é medido como a diferença das anomalias entre cada pólo do dipolo (polo sudoeste menos polo nordeste);\n",
    "- ENSO é o índice do El Nino - Oscilação Sul, e é incluído por seus conhecidos impactos no clima regional sulamericano;\n",
    "- SASD no ano 1 também é incluído, pois também pode influenciar o valor de Y;\n",
    "\n",
    "<strong>IMPORTANTE</strong> notar que: SASDIy0 é tomado em julho de um determinado ano (ano 0), enquanto que Y, SASDIy1 e ENSO são tomados entre junho e agosto do ano seguinte (ano 1). Há, portanto, aproximadamente um ano de diferença entre SASDIy0 e Y.\n",
    "\n",
    "<hr>\n",
    "<h2>Código:</h2>\n",
    "\n",
    "Importando as bibliotecas necessárias ..."
   ]
  },
  {
   "cell_type": "code",
   "execution_count": 172,
   "metadata": {},
   "outputs": [],
   "source": [
    "import numpy as np\n",
    "import pandas as pd\n",
    "import xarray as xr\n",
    "import matplotlib.pyplot as plt\n",
    "import seaborn as sns\n",
    "import statsmodels.api as sm\n",
    "import statsmodels.formula.api as smf\n",
    "from sklearn.linear_model import LogisticRegression\n",
    "from sklearn.preprocessing import StandardScaler\n",
    "\n",
    "from sklearn.metrics import roc_auc_score, roc_curve, classification_report,accuracy_score, recall_score, precision_score, confusion_matrix, auc"
   ]
  },
  {
   "cell_type": "markdown",
   "metadata": {},
   "source": [
    "<hr>\n",
    "Função para abrir os arquivos netcdf.\n",
    "\n"
   ]
  },
  {
   "cell_type": "code",
   "execution_count": 189,
   "metadata": {},
   "outputs": [],
   "source": [
    "def openfiles():\n",
    "    # Dados começam todos em 15 jan 1980.\n",
    "    Sdata= xr.open_dataset('data/MEAN_SASDb.nc')\n",
    "    Edata= xr.open_dataset('data/Nino3b_ERv5.nc')\n",
    "    Tdata= xr.open_dataset('data/TSP_anom.nc')\n",
    "    sasdi=np.array(Sdata['MEDIAB'][:])\n",
    "    nino3=np.array(Edata['NINO3B'][:])\n",
    "    #p1=np.array(Pdata['PREC01'][:])\n",
    "    #p2=np.array(Pdata['PREC02'][:])\n",
    "    tanom=np.array(Tdata['TANOM'][:])\n",
    "    return sasdi,nino3,tanom"
   ]
  },
  {
   "cell_type": "code",
   "execution_count": 190,
   "metadata": {},
   "outputs": [],
   "source": [
    "sasda,ninoa,tanoma=openfiles()"
   ]
  },
  {
   "cell_type": "markdown",
   "metadata": {},
   "source": [
    "<hr>\n",
    "Agora extraio SASDIy0 em Julho (ano 0), SASDy1 e NINO em Julho (ano 1) e Tanom entre Junho e Agosto (ano 1).\n",
    "\n",
    "Em seguinda, transformo tanom (Real) em binário (0,1), e armazeno as variáveis num dataframe (df)."
   ]
  },
  {
   "cell_type": "code",
   "execution_count": 191,
   "metadata": {},
   "outputs": [
    {
     "data": {
      "text/html": [
       "<div>\n",
       "<style scoped>\n",
       "    .dataframe tbody tr th:only-of-type {\n",
       "        vertical-align: middle;\n",
       "    }\n",
       "\n",
       "    .dataframe tbody tr th {\n",
       "        vertical-align: top;\n",
       "    }\n",
       "\n",
       "    .dataframe thead th {\n",
       "        text-align: right;\n",
       "    }\n",
       "</style>\n",
       "<table border=\"1\" class=\"dataframe\">\n",
       "  <thead>\n",
       "    <tr style=\"text-align: right;\">\n",
       "      <th></th>\n",
       "      <th>SASDIy0</th>\n",
       "      <th>SASDIy1</th>\n",
       "      <th>ENSO</th>\n",
       "      <th>Tanom</th>\n",
       "    </tr>\n",
       "  </thead>\n",
       "  <tbody>\n",
       "    <tr>\n",
       "      <th>0</th>\n",
       "      <td>4.096648</td>\n",
       "      <td>7.044730</td>\n",
       "      <td>1.054966</td>\n",
       "      <td>0</td>\n",
       "    </tr>\n",
       "    <tr>\n",
       "      <th>1</th>\n",
       "      <td>7.044730</td>\n",
       "      <td>4.862110</td>\n",
       "      <td>14.934173</td>\n",
       "      <td>1</td>\n",
       "    </tr>\n",
       "    <tr>\n",
       "      <th>2</th>\n",
       "      <td>4.862110</td>\n",
       "      <td>0.534298</td>\n",
       "      <td>14.435715</td>\n",
       "      <td>0</td>\n",
       "    </tr>\n",
       "    <tr>\n",
       "      <th>3</th>\n",
       "      <td>0.534298</td>\n",
       "      <td>-4.961438</td>\n",
       "      <td>-0.247161</td>\n",
       "      <td>1</td>\n",
       "    </tr>\n",
       "    <tr>\n",
       "      <th>4</th>\n",
       "      <td>-4.961438</td>\n",
       "      <td>-3.092822</td>\n",
       "      <td>-3.499777</td>\n",
       "      <td>0</td>\n",
       "    </tr>\n",
       "  </tbody>\n",
       "</table>\n",
       "</div>"
      ],
      "text/plain": [
       "    SASDIy0   SASDIy1       ENSO  Tanom\n",
       "0  4.096648  7.044730   1.054966      0\n",
       "1  7.044730  4.862110  14.934173      1\n",
       "2  4.862110  0.534298  14.435715      0\n",
       "3  0.534298 -4.961438  -0.247161      1\n",
       "4 -4.961438 -3.092822  -3.499777      0"
      ]
     },
     "execution_count": 191,
     "metadata": {},
     "output_type": "execute_result"
    }
   ],
   "source": [
    "sasdi=np.array([ np.mean(sasda[i,0]) for i in range(6,29*12,12) ])\n",
    "#sasdi_n=(sasdi-sasdi.mean())/sasdi.std()\n",
    "sasdiy1=np.array([ np.mean(sasda[i,0]) for i in range(18,30*12,12) ])\n",
    "#sasdiy1_n=(sasdiy1-sasdiy1.mean())/sasdiy1.std()\n",
    "nino=np.array([  np.mean(ninoa[i])  for i in range(18,30*12,12)   ])\n",
    "#nino_n=(nino-nino.mean())/nino.std()\n",
    "tanom=np.array([ np.mean(tanoma[i:i+3])  for i in range(17,30*12,12)  ])\n",
    "Y= np.where(tanom > 0, 1, np.where(tanom < 0, 0,0))\n",
    "\n",
    "\n",
    "df = pd.DataFrame({'SASDIy0':sasdi*10,'SASDIy1':sasdiy1*10,'ENSO':nino*10,'Tanom':Y})\n",
    "\n",
    "\n",
    "df.head()"
   ]
  },
  {
   "cell_type": "markdown",
   "metadata": {},
   "source": [
    "<hr>\n",
    "Defino algumas funções para iniciar as variáveis X e Y, incluir Xo=1 no vetor X, e calcular a função sigmoide:"
   ]
  },
  {
   "cell_type": "code",
   "execution_count": 192,
   "metadata": {},
   "outputs": [],
   "source": [
    "def initiate():\n",
    "    n_features = len(df.columns)-1 \n",
    "    X = np.array(df.drop('Tanom',1)) \n",
    "    y = df.iloc[:,n_features:n_features+1].values\n",
    "    scaler = StandardScaler()\n",
    "#    scaler.fit(X)\n",
    "#    X = scaler.transform(X)\n",
    "    return n_features, X, y"
   ]
  },
  {
   "cell_type": "markdown",
   "metadata": {},
   "source": [
    "Importante adicionar o $X_0=1$ em X, para que possamos multiplicar os vetores $X$ e $\\beta$. Faço isso com a função abaixo:"
   ]
  },
  {
   "cell_type": "code",
   "execution_count": 193,
   "metadata": {},
   "outputs": [],
   "source": [
    "def insert_ones(X):\n",
    "    ones = np.ones([X.shape[0],1])\n",
    "    return np.concatenate((ones,X),axis=1)"
   ]
  },
  {
   "cell_type": "markdown",
   "metadata": {},
   "source": [
    "Vamos definiar a função sigmoid, que usaremos para vizualizar o ajuste."
   ]
  },
  {
   "cell_type": "code",
   "execution_count": 195,
   "metadata": {},
   "outputs": [],
   "source": [
    "def sigmoid(z):\n",
    "    return 1/(1+np.exp(-z))"
   ]
  },
  {
   "cell_type": "markdown",
   "metadata": {},
   "source": [
    "<hr>"
   ]
  },
  {
   "cell_type": "markdown",
   "metadata": {},
   "source": [
    "\n",
    "<h1> Muito bem... </h1>\n",
    "\n",
    "Vamos calcular a Regressão Logistica utilizando bibliotecas específicas, para obtermos algumas informações estatísticas relevantes acerca dos resultados:"
   ]
  },
  {
   "cell_type": "code",
   "execution_count": 196,
   "metadata": {},
   "outputs": [
    {
     "name": "stdout",
     "output_type": "stream",
     "text": [
      "                 Generalized Linear Model Regression Results                  \n",
      "==============================================================================\n",
      "Dep. Variable:                  Tanom   No. Observations:                   29\n",
      "Model:                            GLM   Df Residuals:                       25\n",
      "Model Family:                Binomial   Df Model:                            3\n",
      "Link Function:                  logit   Scale:                          1.0000\n",
      "Method:                          IRLS   Log-Likelihood:                -16.787\n",
      "Date:                Thu, 24 Feb 2022   Deviance:                       33.574\n",
      "Time:                        20:52:05   Pearson chi2:                     29.2\n",
      "No. Iterations:                     4                                         \n",
      "Covariance Type:            nonrobust                                         \n",
      "==============================================================================\n",
      "                 coef    std err          z      P>|z|      [0.025      0.975]\n",
      "------------------------------------------------------------------------------\n",
      "Intercept     -0.1089      0.518     -0.210      0.834      -1.125       0.907\n",
      "SASDIy0        0.2173      0.099      2.192      0.028       0.023       0.412\n",
      "SASDIy1       -0.0502      0.094     -0.535      0.593      -0.234       0.134\n",
      "ENSO           0.0555      0.056      0.994      0.320      -0.054       0.165\n",
      "==============================================================================\n"
     ]
    }
   ],
   "source": [
    "modelo = smf.glm(formula='Tanom ~ SASDIy0 + SASDIy1+ ENSO', data=df,\n",
    "                family = sm.families.Binomial()).fit()\n",
    "print(modelo.summary())\n"
   ]
  },
  {
   "cell_type": "markdown",
   "metadata": {},
   "source": [
    "<strong>Notemos:</strong>\n",
    "\n",
    "- Apenas SASDIy0 apresentou p < 0.05, indicando que há evidências de que seu coeficiente é estatisticamente diferente de zero, com um grau de significância de 5%;\n",
    "\n",
    "- Como as variáveis em X não foram normalizadas, não podemos comparar seus coeficiêntes. Contudo, se o fossem, os resultados seriam:\n",
    "\n",
    "- $\\beta_1=1.03$\n",
    "- $\\beta_2=-0.23$\n",
    "- $\\beta_3=0.43$\n",
    "\n",
    "Os coeficientes para os valores normalizados nos informam que SASDIy0 é o termo que mais contribui com o ajuste.\n",
    "\n",
    "Não vou normalizar os dados para que, na hora de vizualizá-los, vejamos um ajuste mais coerente à sigmoide.\n",
    "<hr>\n",
    "\n",
    "Vou refazer o ajuste mais uma vez, mas agora utilizando o <strong> sklearn</strong>.\n",
    "\n",
    "\n",
    "<strong>Outro ponto...</strong> Vou utilizar apenas a variável independente SASDy0, pois foi a única com coeficiente estatisticamente significante."
   ]
  },
  {
   "cell_type": "code",
   "execution_count": 201,
   "metadata": {},
   "outputs": [],
   "source": [
    "\n",
    "baseline_df = df[['Tanom', 'SASDIy0', 'SASDIy1' ,'ENSO']].dropna()\n",
    "y = np.array(baseline_df.Tanom)\n",
    "X = np.array(pd.get_dummies(baseline_df[['SASDIy0']], drop_first=True))\n",
    "#print(X)"
   ]
  },
  {
   "cell_type": "code",
   "execution_count": 202,
   "metadata": {},
   "outputs": [
    {
     "name": "stdout",
     "output_type": "stream",
     "text": [
      "              precision    recall  f1-score   support\n",
      "\n",
      "           0       0.69      0.64      0.67        14\n",
      "           1       0.69      0.73      0.71        15\n",
      "\n",
      "    accuracy                           0.69        29\n",
      "   macro avg       0.69      0.69      0.69        29\n",
      "weighted avg       0.69      0.69      0.69        29\n",
      "\n"
     ]
    }
   ],
   "source": [
    "model = LogisticRegression()\n",
    "model.fit(X, y)\n",
    "y_pred = model.predict(X)\n",
    "print(classification_report(y, model.predict(X)))"
   ]
  },
  {
   "cell_type": "markdown",
   "metadata": {},
   "source": [
    "<hr>\n",
    "Esses são os resultados ao se utilizar todos os dados. Observamos um desempenho geral de aproximadamente 70%.\n",
    "\n",
    "\n",
    "<strong>Vamos</strong> agora utilizar a metodologia de treino e teste de modelos de \"Machine Learning\". Quero dizer: Vamos separar os dados em duas amostras: uma para obtermos a função de ajuste (treinar o modelo) e outra para testar o modelo. Fazemos isso para que o treino não seja feito com os dados utilizados na otimização dos coeficientes da função regressora.\n",
    "\n"
   ]
  },
  {
   "cell_type": "markdown",
   "metadata": {},
   "source": [
    "Pois bem. Temos, entretanto, que ao treinar o modelo com o conjunto de testes, obtemos resultados que são dependentes da amostra que utilizamos para o treino. O mesmo vale para o momento de testar o modelo. Isso quer dizer que podemos ter resultados diferentes, dependendo de quais dados utilizamos para treinar e testar o modelo.\n",
    "\n",
    "Para contornar esse problema, o que faço aqui é gerar 500 ajustes diferentes, mudando as amostras de treino e teste. Os resultados abaixo mostram a distribuição da performace do modelo ao mudarmos aleatoriamente as amostras.\n",
    "\n"
   ]
  },
  {
   "cell_type": "code",
   "execution_count": 203,
   "metadata": {},
   "outputs": [
    {
     "name": "stderr",
     "output_type": "stream",
     "text": [
      "/home/wlademir/anaconda3/lib/python3.7/site-packages/sklearn/metrics/_classification.py:1272: UndefinedMetricWarning: Precision is ill-defined and being set to 0.0 due to no predicted samples. Use `zero_division` parameter to control this behavior.\n",
      "  _warn_prf(average, modifier, msg_start, len(result))\n",
      "/home/wlademir/anaconda3/lib/python3.7/site-packages/sklearn/metrics/_classification.py:1272: UndefinedMetricWarning: Recall is ill-defined and being set to 0.0 due to no true samples. Use `zero_division` parameter to control this behavior.\n",
      "  _warn_prf(average, modifier, msg_start, len(result))\n",
      "/home/wlademir/anaconda3/lib/python3.7/site-packages/sklearn/metrics/_classification.py:1272: UndefinedMetricWarning: Precision is ill-defined and being set to 0.0 due to no predicted samples. Use `zero_division` parameter to control this behavior.\n",
      "  _warn_prf(average, modifier, msg_start, len(result))\n",
      "/home/wlademir/anaconda3/lib/python3.7/site-packages/sklearn/metrics/_classification.py:1272: UndefinedMetricWarning: Precision is ill-defined and being set to 0.0 due to no predicted samples. Use `zero_division` parameter to control this behavior.\n",
      "  _warn_prf(average, modifier, msg_start, len(result))\n",
      "/home/wlademir/anaconda3/lib/python3.7/site-packages/sklearn/metrics/_classification.py:1272: UndefinedMetricWarning: Precision is ill-defined and being set to 0.0 due to no predicted samples. Use `zero_division` parameter to control this behavior.\n",
      "  _warn_prf(average, modifier, msg_start, len(result))\n",
      "/home/wlademir/anaconda3/lib/python3.7/site-packages/sklearn/metrics/_classification.py:1272: UndefinedMetricWarning: Recall is ill-defined and being set to 0.0 due to no true samples. Use `zero_division` parameter to control this behavior.\n",
      "  _warn_prf(average, modifier, msg_start, len(result))\n"
     ]
    },
    {
     "name": "stdout",
     "output_type": "stream",
     "text": [
      "0.6666666666666666 0.6666666666666666 0.6666666666666666 0.6666666666666666\n"
     ]
    },
    {
     "data": {
      "image/png": "[encoded data removed]",
      "text/plain": [
       "<Figure size 864x864 with 4 Axes>"
      ]
     },
     "metadata": {
      "needs_background": "light"
     },
     "output_type": "display_data"
    }
   ],
   "source": [
    "nereast=1\n",
    "nresample=500\n",
    "score=np.zeros(nresample)\n",
    "acuracia=np.zeros(nresample)\n",
    "precisao=np.zeros(nresample)\n",
    "recall=np.zeros(nresample)\n",
    "for rand in range(0,nresample):\n",
    "    from sklearn.model_selection import train_test_split\n",
    "    x_train, x_test, y_train, y_test = train_test_split(X, y, test_size = 0.2)\n",
    "    model = LogisticRegression(random_state=rand,solver='liblinear')\n",
    "    #random_stateint, RandomState instance, default=None\n",
    "\n",
    "    #Used when solver == ‘sag’, ‘saga’ or ‘liblinear’\n",
    "    \n",
    "    model.fit(x_train, y_train)\n",
    "    y_pred = model.predict(x_test)\n",
    "    score[rand]=model.score(x_test, y_test)\n",
    "    recall[rand]=recall_score(y_test, y_pred)\n",
    "    acuracia[rand]=accuracy_score(y_test, y_pred)\n",
    "    precisao[rand]=precision_score(y_test, y_pred)\n",
    "\n",
    "\n",
    "metricas = pd.DataFrame({'Score':score,'Acuracia':acuracia,'Precisao':precisao,'Recall':recall})\n",
    "features=('Score','Acuracia','Precisao','Recall')\n",
    "fig, axs = plt.subplots(nrows=2, ncols=2, figsize=(12, 12))\n",
    "for col, ax in zip(features, axs.ravel()):\n",
    "    x=metricas.loc[:,col]\n",
    "    sns.distplot(x, ax=ax)\n",
    "    ax.set_title(col)\n",
    "    #    sns.distplot(x=metricas,x=col,bins=bins,ax=axs)\n",
    "print(np.median(score),np.median(acuracia),np.median(precisao),np.median(recall))"
   ]
  },
  {
   "cell_type": "markdown",
   "metadata": {},
   "source": [
    "<hr>\n",
    "Os resultados de performace de Acurácia, Precisão e Recall ficam distribuidos em torno de 67%. Relembrando que:"
   ]
  },
  {
   "cell_type": "markdown",
   "metadata": {},
   "source": [
    "<hr>\n",
    "<strong>Acurácia</strong> : Indica a performace geral do modelo de classificação. Dentre todos os eventos, quantos o modelo classificou corretamente \n",
    "\n",
    "$$acurácia =\\frac{TP+TN}{FP+TP+FN+TN}$$\n",
    "\n",
    "<strong>Precisão </strong>: Dentre todos os eventos positivos, quantos o modelo acertou sua classificação.\n",
    "\n",
    "$$precisao =\\frac{TP}{FP+TP}$$\n",
    "\n",
    "\n",
    "<strong>Recall</strong>: A proporção das classificações Positivas que foram corretamente identificadas\n",
    "$$recall =\\frac{TP}{FN+TP}$$\n",
    "\n"
   ]
  },
  {
   "cell_type": "markdown",
   "metadata": {},
   "source": [
    "<h1>Até aqui, podemos dizer que ...</h1>\n",
    "\n",
    "Dentro do conjunto de treinamento, o modelo apresentou valores de acurácia, precisão e recall de aproximadamente 70%, e, durante o teste do modelo, uma distribuição de resultados de performace em torno de 66%. Embora não sejam números expressivamente bons, vale notar que a previsibilidade sazonal tem ainda limitações temporais e espaciais bastante significativas, de forma que 70% de precião e recall para uma previsão de 12 meses é, sim, um resultado bastante interessante. É importante também notar que, embora ENSO e SASD sejam conhecidos por seus efeitos no clima regional, o modelo regressor apontou para o SASDI_y0 como seu principal componente. Esses resultados evidenciam a importancia do SASD memory effect para o clima regional do sudeste brasileiro e seu real potencial na aplicação como índice preditivo.\n"
   ]
  },
  {
   "cell_type": "markdown",
   "metadata": {},
   "source": [
    "<hr>\n",
    "<h1> Mais um teste ... </h1>\n",
    "Antes de encerrar, vamos analisar apenas as situações com condições Neutras de ENSO em Julho do ano 1. Embora ENSO e SASDy1 tenham apresentado coeficientes menores que SASDy0, seus efeitos não são necessariamente desprezíveis. Faço então um filtro, considerando como limiar o valor do desvio padrão para ENSO, e excluo qualquer evento para o qual ENSO seja maior que o limiar estabelecido."
   ]
  },
  {
   "cell_type": "code",
   "execution_count": 204,
   "metadata": {},
   "outputs": [
    {
     "name": "stdout",
     "output_type": "stream",
     "text": [
      "    SASDIy0   SASDIy1       ENSO  Tanom  Estatus  Status\n",
      "0  4.096648  7.044730   1.054966      0        0       1\n",
      "1  7.044730  4.862110  14.934173      1        1       0\n",
      "2  4.862110  0.534298  14.435715      0        1       0\n",
      "3  0.534298 -4.961438  -0.247161      1        0       0\n",
      "4 -4.961438 -3.092822  -3.499777      0        0       0\n"
     ]
    },
    {
     "data": {
      "image/png": "[encoded data removed]",
      "text/plain": [
       "<Figure size 432x288 with 1 Axes>"
      ]
     },
     "metadata": {
      "needs_background": "light"
     },
     "output_type": "display_data"
    },
    {
     "name": "stdout",
     "output_type": "stream",
     "text": [
      "    SASDIy0   SASDIy1      ENSO  Tanom  Estatus  Status\n",
      "0  4.096648  7.044730  1.054966      0        0       1\n",
      "3  0.534298 -4.961438 -0.247161      1        0       0\n",
      "4 -4.961438 -3.092822 -3.499777      0        0       0\n",
      "5 -3.092822 -6.213120  5.859502      1        0      -1\n",
      "8 -4.781501 -0.872271  1.897860      0        0       0\n"
     ]
    },
    {
     "data": {
      "text/plain": [
       "<matplotlib.axes._subplots.AxesSubplot at 0x7fea5fd32510>"
      ]
     },
     "execution_count": 204,
     "metadata": {},
     "output_type": "execute_result"
    },
    {
     "data": {
      "image/png": "[encoded data removed]",
      "text/plain": [
       "<Figure size 432x288 with 1 Axes>"
      ]
     },
     "metadata": {
      "needs_background": "light"
     },
     "output_type": "display_data"
    }
   ],
   "source": [
    "Sstatus= np.where(sasdiy1 > np.std(sasdiy1)*1.1, 1, np.where(sasdiy1 < -np.std(sasdiy1)*1.1, -1,0))\n",
    "Estatus= np.where(nino > np.std(nino)*1, 1, np.where(nino < -np.std(nino)*1, -1,0))\n",
    "\n",
    "\n",
    "df = pd.DataFrame({'SASDIy0':sasdi*10,'SASDIy1':sasdiy1*10,'ENSO':nino*10,'Tanom':Y,'Estatus':Estatus,'Status':Sstatus})\n",
    "print(df.head())\n",
    "\n",
    "fig, ax = plt.subplots(figsize=(6,4))  \n",
    "sns.scatterplot(x='SASDIy0', y='Tanom',data=df,hue='Estatus',size='Estatus')\n",
    "plt.show()\n",
    "df = df[df.Estatus == 0]\n",
    "#df = df[df.Status == 0]\n",
    "print(df.head())\n",
    "fig, ax = plt.subplots(figsize=(6,4))  \n",
    "sns.scatterplot(x='SASDIy0', y='Tanom',data=df)"
   ]
  },
  {
   "cell_type": "markdown",
   "metadata": {},
   "source": [
    "<strong> Percebe-se </strong> que, ao selecionarmos apenas casos de ENSO e SASD neutros, a separação de Tanom com relação ao valor de SASDy0 é mais evidente. Espera-se assim um melhor ajuste da função logistica aos dados. Vamos ver como o sklearn faz o ajuste para nós ..."
   ]
  },
  {
   "cell_type": "code",
   "execution_count": 205,
   "metadata": {},
   "outputs": [
    {
     "data": {
      "text/html": [
       "<div>\n",
       "<style scoped>\n",
       "    .dataframe tbody tr th:only-of-type {\n",
       "        vertical-align: middle;\n",
       "    }\n",
       "\n",
       "    .dataframe tbody tr th {\n",
       "        vertical-align: top;\n",
       "    }\n",
       "\n",
       "    .dataframe thead th {\n",
       "        text-align: right;\n",
       "    }\n",
       "</style>\n",
       "<table border=\"1\" class=\"dataframe\">\n",
       "  <thead>\n",
       "    <tr style=\"text-align: right;\">\n",
       "      <th></th>\n",
       "      <th>SASDIy0</th>\n",
       "      <th>SASDIy1</th>\n",
       "      <th>ENSO</th>\n",
       "      <th>Tanom</th>\n",
       "    </tr>\n",
       "  </thead>\n",
       "  <tbody>\n",
       "    <tr>\n",
       "      <th>0</th>\n",
       "      <td>4.096648</td>\n",
       "      <td>7.044730</td>\n",
       "      <td>1.054966</td>\n",
       "      <td>0</td>\n",
       "    </tr>\n",
       "    <tr>\n",
       "      <th>3</th>\n",
       "      <td>0.534298</td>\n",
       "      <td>-4.961438</td>\n",
       "      <td>-0.247161</td>\n",
       "      <td>1</td>\n",
       "    </tr>\n",
       "    <tr>\n",
       "      <th>4</th>\n",
       "      <td>-4.961438</td>\n",
       "      <td>-3.092822</td>\n",
       "      <td>-3.499777</td>\n",
       "      <td>0</td>\n",
       "    </tr>\n",
       "    <tr>\n",
       "      <th>5</th>\n",
       "      <td>-3.092822</td>\n",
       "      <td>-6.213120</td>\n",
       "      <td>5.859502</td>\n",
       "      <td>1</td>\n",
       "    </tr>\n",
       "    <tr>\n",
       "      <th>8</th>\n",
       "      <td>-4.781501</td>\n",
       "      <td>-0.872271</td>\n",
       "      <td>1.897860</td>\n",
       "      <td>0</td>\n",
       "    </tr>\n",
       "  </tbody>\n",
       "</table>\n",
       "</div>"
      ],
      "text/plain": [
       "    SASDIy0   SASDIy1      ENSO  Tanom\n",
       "0  4.096648  7.044730  1.054966      0\n",
       "3  0.534298 -4.961438 -0.247161      1\n",
       "4 -4.961438 -3.092822 -3.499777      0\n",
       "5 -3.092822 -6.213120  5.859502      1\n",
       "8 -4.781501 -0.872271  1.897860      0"
      ]
     },
     "execution_count": 205,
     "metadata": {},
     "output_type": "execute_result"
    }
   ],
   "source": [
    "df.drop('Estatus',axis='columns', inplace=True)\n",
    "df.drop('Status',axis='columns', inplace=True)\n",
    "\n",
    "df.head()\n",
    "#print(df)\n"
   ]
  },
  {
   "cell_type": "code",
   "execution_count": 206,
   "metadata": {},
   "outputs": [
    {
     "name": "stdout",
     "output_type": "stream",
     "text": [
      "              precision    recall  f1-score   support\n",
      "\n",
      "           0       0.78      0.78      0.78         9\n",
      "           1       0.82      0.82      0.82        11\n",
      "\n",
      "    accuracy                           0.80        20\n",
      "   macro avg       0.80      0.80      0.80        20\n",
      "weighted avg       0.80      0.80      0.80        20\n",
      "\n",
      "[[ 0.38662064 -0.2218457   0.11661553]]\n"
     ]
    },
    {
     "name": "stderr",
     "output_type": "stream",
     "text": [
      "/home/wlademir/anaconda3/lib/python3.7/site-packages/ipykernel_launcher.py:3: FutureWarning: In a future version of pandas all arguments of DataFrame.drop except for the argument 'labels' will be keyword-only\n",
      "  This is separate from the ipykernel package so we can avoid doing imports until\n",
      "/home/wlademir/anaconda3/lib/python3.7/site-packages/sklearn/utils/validation.py:760: DataConversionWarning: A column-vector y was passed when a 1d array was expected. Please change the shape of y to (n_samples, ), for example using ravel().\n",
      "  y = column_or_1d(y, warn=True)\n"
     ]
    }
   ],
   "source": [
    "n_features, X, y = initiate()\n",
    "model = LogisticRegression()\n",
    "model.fit(X, y)\n",
    "y_pred = model.predict(X)\n",
    "print(classification_report(y, y_pred))\n",
    "print(model.coef_)"
   ]
  },
  {
   "cell_type": "code",
   "execution_count": 207,
   "metadata": {},
   "outputs": [],
   "source": [
    "X = insert_ones(X) "
   ]
  },
  {
   "cell_type": "code",
   "execution_count": 208,
   "metadata": {},
   "outputs": [
    {
     "data": {
      "text/plain": [
       "[<matplotlib.lines.Line2D at 0x7fea5ff1b150>]"
      ]
     },
     "execution_count": 208,
     "metadata": {},
     "output_type": "execute_result"
    },
    {
     "data": {
      "image/png": "[encoded data removed]",
      "text/plain": [
       "<Figure size 432x288 with 1 Axes>"
      ]
     },
     "metadata": {
      "needs_background": "light"
     },
     "output_type": "display_data"
    }
   ],
   "source": [
    "w = np.append(model.intercept_.ravel(), model.coef_)\n",
    "sig_ajusted=sigmoid(X @ w.T)\n",
    "xl=np.array(X @ w.T)\n",
    "fig, ax = plt.subplots(figsize=(6,4))  \n",
    "ax=sns.scatterplot(x='SASDIy0', y='Tanom',data=df,ax=ax)\n",
    "ax.scatter(xl, sig_ajusted)\n",
    "ax.plot([-10,10],[0.5,0.5])\n",
    "#ax.set_xlim([-2,2])\n",
    "\n",
    "#ax.scatter(df['SASDIy0'], df['Tanom'])\n",
    "#ax=sns.scatterplot(x=X[:,1], y='Tanom',data=df,ax=ax)"
   ]
  },
  {
   "cell_type": "markdown",
   "metadata": {},
   "source": [
    "<hr>\n",
    "<h1><strong>Considerações Finais </strong></h1>\n",
    "Observamos uma melhoria na performace do ajuste para cerca de 80%, ao tratarmos apenas situações neutras de ENSO julho do ano 1. Contudo há uma redução na quantidade de dados, que já era demasiadamente pequena. Realizar esse tipo de análise esbarra imediatamente no limite temporal dos dados observacionais, tornando-os escassos, o que inviabiliza realizar as etapas de treino e teste com subamostras distintas e suficientes. A utilização de dados de reanálises, por exemplo, poderia ser uma alternativa, mas o viés presente nesses tipos de dados, sobretudo anteriormente ao início das observações por satélite, compromete sua utilização. As bases de dados observacionais recaem em problema semelhante, uma vez que há pouca amostragens ante de 1980, sobretudo no hemisfério sul. Os resultados apresentados aqui, apesar de esbarrar no problema de escasses de dados, apresentam-se promissores com relação à utilização do SASD memory effect como índice preditor. Será necessário, entretanto, aguardar pelo aumento natural das observações com o tempo, ou o surgimento de reanálises que reconstruam a variabilidade do clima passado de modo satisfatório."
   ]
  },
  {
   "cell_type": "code",
   "execution_count": null,
   "metadata": {},
   "outputs": [],
   "source": []
  },
  {
   "cell_type": "code",
   "execution_count": null,
   "metadata": {},
   "outputs": [],
   "source": []
  }
 ],
 "metadata": {
  "kernelspec": {
   "display_name": "Python 3 (ipykernel)",
   "language": "python",
   "name": "python3"
  },
  "language_info": {
   "codemirror_mode": {
    "name": "ipython",
    "version": 3
   },
   "file_extension": ".py",
   "mimetype": "text/x-python",
   "name": "python",
   "nbconvert_exporter": "python",
   "pygments_lexer": "ipython3",
   "version": "3.7.6"
  }
 },
 "nbformat": 4,
 "nbformat_minor": 4
}
