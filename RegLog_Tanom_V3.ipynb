{
 "cells": [
  {
   "cell_type": "markdown",
   "metadata": {},
   "source": [
    "<hr>\n",
    "<h1> Regressão Logística Aplicada ao SASD Memory Effect </h1>\n",
    "<hr>\n",
    "\n",
    "<h2><strong>Resumo</strong></h2>\n",
    "Utilizando variáveis que são pertinentes ao SASD memory effect e ao clima regional do estado de São Paulo, montamos um modelo de regressão logística para predizer o sinal das anomalias de temperatura entre Junho e Agosto, com aproximadamente um ano de antecedência. Esse modelo estatístico apresentou, dentro do conjunto de treinamento, valores de acurácia, precisão e recall de aproximadamente 70%. Notamos que, embora ENSO e SASD sejam conhecidos por seus efeitos no clima regional sobre o continente sulamericano, o modelo apontou para o SASD ocorrido no ano anterior como seu principal componente preditivo. Isso indica a importância do SASD memory effect para o clima regional do sudeste brasileiro e seu real potencial na aplicação como indicador preditivo.\n",
    "\n",
    "\n",
    "<h2><strong>Introdução</strong></h2>\n",
    "\n",
    "\n",
    "<strong>Sobre o SASD Memory Effect:</strong>\n",
    "\n",
    "Existe um padrão de variabilidade acoplada chamado Dipolo Subtropical do Atlântic Sul (SASD, do inglês) que conecta a variabilidade atmosférica (variabilidade da Alta Subtropical) com a variabilidade das anomalias de temperatura da superfície do mar (TSM) no Atlântico Sul.\n",
    "\n",
    "Santis et al. 2020 descreveu que, quando um evento de SASD ocorre durante o inverno-primavera, existe um processo oceânico que armazena as anomalias de TSM, que no ano seguinte retornam à superfície. Esse processo constitui um efeito de memória ao SASD.\n",
    "\n",
    "Muito bem. O efeito de memória traz imediatamente a idéia de previsibilidade. Seria possível então, dado um evento de SASD na época certa, prever que no ano seguinte observaremos condições específicas. Posteriormente, os mesmos autores mostraram que as anomalias de TSM que retornam no ano seguinte (efeito de memória) impactam na atmosfera. Especificamente, anomalias de temperatura do ar próximo à superfície são observadas no estado de São Paulo, e estão associadas ao efeito de memória. Vamos aqui aplicar um modelo de regressão logística no SASD memory effect, com o intuito de prever a probabilidade de, dado um evento de SASD num determinado inverno-primavera, observarmos anomalias quentes ou frias sobre o estado de São Paulo, no inverno do ano subsequente.\n",
    "\n",
    "<strong> Sobre a Regressão Logística:</strong>"
   ]
  },
  {
   "cell_type": "markdown",
   "metadata": {},
   "source": [
    "A regressão logistica nos oferece um modelo regressor para variáveis categóricas, como por exemplo Y = (SIM , NÃO), Y = (Sucesso , Fracasso). \n",
    "\n",
    "A regressão nos dá, pois, a chance de um conjunto de observações resultarem em uma determinada classe admitida por Y. O ajuste se dá com o uso da função sigmoide, dada por:\n",
    "\n",
    "Função de ajuste: $\\sigma(z) = \\frac{1}{1+e^{-z}}$"
   ]
  },
  {
   "cell_type": "markdown",
   "metadata": {},
   "source": [
    "Onde:\n",
    "<li>$z=\\beta^T X $\n",
    "<li>$\\beta= \\beta_0, \\beta_1 , \\beta_2, ..., \\beta_n $ são coeficientes da função de ajuste</li>\n",
    "<li>$X= X_1 , X_2 , ..., X_n $ são as variáveis independentes</li>\n",
    "<li>$\\beta^T X= \\beta_0+ \\beta_1 X_1 , \\beta_2 X_2 , ..., \\beta_n X_n $ é a combinação linear de todas as variáveis independentes</li>\n",
    "\n",
    "O que se faz na regressão logistica é encontrar os coeficientes $\\beta$ que maximizem a verossimilhança, ou, equivalentemente, minimizem a função custo (erro).\n",
    "\n"
   ]
  },
  {
   "cell_type": "markdown",
   "metadata": {},
   "source": [
    "<h1> Objetivo do Estudo: </h1>\n",
    "\n",
    "Aplicar o modelo de Regressão Logística</strong> ao SASD memory effect, para verificarmos se conseguimos predizer o sinal das anomalias de temperatura sobre São Paulo, entre Junho e Julho, com cerca de um ano de antecedência.\n",
    "\n",
    "Assim, temos:\n",
    "\n",
    "- Y = sinal da anomalia de temperatura do ar sobre o estado de São Paulo (aproximadamente), tomada entre Junho e Agosto;\n",
    "\n",
    "    Defino Y=0 para anomalias negativas, e Y=1 para anomalias positivas;\n",
    "\n",
    "<h2> É preciso estabelecer quais variáveis ($X$) são relevantes ao problema.</h2>\n",
    "<li><h3> Vamos elencar inicialmente três variáveis independentes: </li>\n",
    "   "
   ]
  },
  {
   "cell_type": "markdown",
   "metadata": {},
   "source": [
    "<li>$X_1$: SASDIy0[julho ano 0], precursora do efeito de memória;</li>\n",
    "<li>$X_2$: SASDIy1[julho ano 1]; pode influenciar o clima na região de interesse</li>\n",
    "<li>$X_3$: ENSO[julho ano 1]; pode influenciar o clima na região de interesse</li>\n",
    "\n",
    "- SASDI é uma medida do SASD (SASD Index), e é o prinpical índice envolvido no efeito de memória. O SASDI é medido como a diferença das anomalias entre cada pólo do dipolo (polo sudoeste menos polo nordeste);\n",
    "- ENSO é o índice do El Nino - Oscilação Sul, e é incluído por seus conhecidos impactos no clima regional sulamericano;\n",
    "- SASD no ano 1 também é incluído, pois também pode influenciar o valor de Y;\n",
    "\n",
    "<strong>IMPORTANTE</strong> notar que: SASDIy0 é tomado em julho de um determinado ano (ano 0), enquanto que Y, SASDIy1 e ENSO são tomados entre junho e agosto do ano seguinte (ano 1). Há, portanto, aproximadamente um ano de diferença entre SASDIy0 e Y.\n",
    "\n",
    "<hr>\n",
    "<h2>Vamos lá! Mãos à obra!"
   ]
  },
  {
   "cell_type": "code",
   "execution_count": 128,
   "metadata": {},
   "outputs": [],
   "source": [
    "import numpy as np\n",
    "import pandas as pd\n",
    "import xarray as xr\n",
    "import matplotlib.pyplot as plt\n",
    "import seaborn as sns\n",
    "import statsmodels.api as sm\n",
    "import statsmodels.formula.api as smf\n",
    "from sklearn.linear_model import LogisticRegression\n",
    "from sklearn.preprocessing import StandardScaler\n",
    "\n",
    "from sklearn.metrics import roc_auc_score, roc_curve, classification_report,accuracy_score, recall_score, precision_score, confusion_matrix, auc"
   ]
  },
  {
   "cell_type": "markdown",
   "metadata": {},
   "source": [
    "Função para abrir os arquivos netcdf.\n",
    "\n"
   ]
  },
  {
   "cell_type": "code",
   "execution_count": 3,
   "metadata": {},
   "outputs": [],
   "source": [
    "def openfiles():\n",
    "    # Dados começam todos em 15 jan 1980.\n",
    "    Sdata= xr.open_dataset('data/MEAN_SASDb.nc')\n",
    "    Edata= xr.open_dataset('data/Nino3b_ERv5.nc')\n",
    "    Tdata= xr.open_dataset('data/TSP_anom.nc')\n",
    "    sasdi=np.array(Sdata['MEDIAB'][:])\n",
    "    nino3=np.array(Edata['NINO3B'][:])\n",
    "    #p1=np.array(Pdata['PREC01'][:])\n",
    "    #p2=np.array(Pdata['PREC02'][:])\n",
    "    tanom=np.array(Tdata['TANOM'][:])\n",
    "    return sasdi,nino3,tanom"
   ]
  },
  {
   "cell_type": "code",
   "execution_count": 4,
   "metadata": {},
   "outputs": [],
   "source": [
    "sasda,ninoa,tanoma=openfiles()"
   ]
  },
  {
   "cell_type": "markdown",
   "metadata": {},
   "source": [
    "<hr>\n",
    "Agora extraio SASDIy0 em Julho (ano 0), SASDy1 e NINO em Julho (ano 1) e Tanom entre Junho e Agosto (ano 1).\n",
    "\n",
    "Em seguinda, transformo tanom (Real) em binário (0,1), e armazeno as variáveis em df."
   ]
  },
  {
   "cell_type": "code",
   "execution_count": 183,
   "metadata": {},
   "outputs": [
    {
     "data": {
      "text/html": [
       "<div>\n",
       "<style scoped>\n",
       "    .dataframe tbody tr th:only-of-type {\n",
       "        vertical-align: middle;\n",
       "    }\n",
       "\n",
       "    .dataframe tbody tr th {\n",
       "        vertical-align: top;\n",
       "    }\n",
       "\n",
       "    .dataframe thead th {\n",
       "        text-align: right;\n",
       "    }\n",
       "</style>\n",
       "<table border=\"1\" class=\"dataframe\">\n",
       "  <thead>\n",
       "    <tr style=\"text-align: right;\">\n",
       "      <th></th>\n",
       "      <th>SASDIy0</th>\n",
       "      <th>SASDIy1</th>\n",
       "      <th>NINO3</th>\n",
       "      <th>Tanom</th>\n",
       "    </tr>\n",
       "  </thead>\n",
       "  <tbody>\n",
       "    <tr>\n",
       "      <th>0</th>\n",
       "      <td>0.987045</td>\n",
       "      <td>1.683409</td>\n",
       "      <td>-0.501794</td>\n",
       "      <td>0</td>\n",
       "    </tr>\n",
       "    <tr>\n",
       "      <th>1</th>\n",
       "      <td>1.608197</td>\n",
       "      <td>1.218658</td>\n",
       "      <td>1.282613</td>\n",
       "      <td>1</td>\n",
       "    </tr>\n",
       "    <tr>\n",
       "      <th>2</th>\n",
       "      <td>1.148326</td>\n",
       "      <td>0.297127</td>\n",
       "      <td>1.218528</td>\n",
       "      <td>0</td>\n",
       "    </tr>\n",
       "    <tr>\n",
       "      <th>3</th>\n",
       "      <td>0.236469</td>\n",
       "      <td>-0.873094</td>\n",
       "      <td>-0.669204</td>\n",
       "      <td>1</td>\n",
       "    </tr>\n",
       "    <tr>\n",
       "      <th>4</th>\n",
       "      <td>-0.921465</td>\n",
       "      <td>-0.475205</td>\n",
       "      <td>-1.087383</td>\n",
       "      <td>0</td>\n",
       "    </tr>\n",
       "  </tbody>\n",
       "</table>\n",
       "</div>"
      ],
      "text/plain": [
       "    SASDIy0   SASDIy1     NINO3  Tanom\n",
       "0  0.987045  1.683409 -0.501794      0\n",
       "1  1.608197  1.218658  1.282613      1\n",
       "2  1.148326  0.297127  1.218528      0\n",
       "3  0.236469 -0.873094 -0.669204      1\n",
       "4 -0.921465 -0.475205 -1.087383      0"
      ]
     },
     "execution_count": 183,
     "metadata": {},
     "output_type": "execute_result"
    }
   ],
   "source": [
    "sasdi=np.array([ np.mean(sasda[i,0]) for i in range(6,29*12,12) ])\n",
    "sasdi_n=(sasdi-sasdi.mean())/sasdi.std()\n",
    "sasdiy1=np.array([ np.mean(sasda[i,0]) for i in range(18,30*12,12) ])\n",
    "sasdiy1_n=(sasdiy1-sasdiy1.mean())/sasdiy1.std()\n",
    "nino=np.array([  np.mean(ninoa[i])  for i in range(18,30*12,12)   ])\n",
    "nino_n=(nino-nino.mean())/nino.std()\n",
    "tanom=np.array([ np.mean(tanoma[i:i+3])  for i in range(17,30*12,12)  ])\n",
    "Y= np.where(tanom > 0, 1, np.where(tanom < 0, 0,0))\n",
    "df = pd.DataFrame({'SASDIy0':sasdi_n,'SASDIy1':sasdiy1_n,'NINO3':nino_n,'Tanom':Y})\n",
    "df.head()"
   ]
  },
  {
   "cell_type": "code",
   "execution_count": 184,
   "metadata": {},
   "outputs": [],
   "source": [
    "def initiate():\n",
    "    n_features = len(df.columns)-1 \n",
    "    X = np.array(df.drop('Tanom',1)) \n",
    "    y = df.iloc[:,n_features:n_features+1].values\n",
    "    scaler = StandardScaler()\n",
    "    scaler.fit(X)\n",
    "    X = scaler.transform(X)\n",
    "    return n_features, X, y"
   ]
  },
  {
   "cell_type": "markdown",
   "metadata": {},
   "source": [
    "Importante adicionar o $X_0$ em X. Faço isso com a função abaixo:"
   ]
  },
  {
   "cell_type": "code",
   "execution_count": 185,
   "metadata": {},
   "outputs": [],
   "source": [
    "def insert_ones(X):\n",
    "    ones = np.ones([X.shape[0],1])\n",
    "    return np.concatenate((ones,X),axis=1)"
   ]
  },
  {
   "cell_type": "markdown",
   "metadata": {},
   "source": [
    "Vamos definiar a função sigmoid, que será ajustada aos dados por meio da técnica da descida do gradiente"
   ]
  },
  {
   "cell_type": "code",
   "execution_count": 186,
   "metadata": {},
   "outputs": [],
   "source": [
    "def sigmoid(z):\n",
    "    return 1/(1+np.exp(-z))"
   ]
  },
  {
   "cell_type": "markdown",
   "metadata": {},
   "source": [
    "\n",
    "<h3>A função custo é dada por:</h3>\n",
    "    \n",
    "$Custo=\\frac{1}{N}\\sum_{i=1}^{N}-y_i \\log(\\hat{y_i})-(1-y_i)\\log(1-\\hat{y_i})$\n",
    "\n"
   ]
  },
  {
   "cell_type": "code",
   "execution_count": 187,
   "metadata": {},
   "outputs": [],
   "source": [
    "def fcusto(w, X, y):    \n",
    "    \n",
    "    m = len(X)\n",
    "    \n",
    "    parte1 = np.multiply(-y, np.log(sigmoid(X @ w.T)))\n",
    "    parte2 = np.multiply((1 - y), np.log(1 - sigmoid(X @ w.T)))\n",
    "    \n",
    "    somatorio = np.sum(parte1 - parte2)\n",
    "    \n",
    "    return  somatorio/m"
   ]
  },
  {
   "cell_type": "markdown",
   "metadata": {},
   "source": [
    "<hr>\n",
    "Vou otimizar os coeficientes do ajuste através da técnica da <strong> Descida do Gradiente</strong>, que basicamente faz pequenos incrementos em cada coeficiente de acordo com sua influência no erro (Custo). Caso um incremento positivo em, digamos, $w_0$, represente uma redução no erro, mantendo-se todos os outros coeficientes constantes, então $w_0$ receberá um aumentado com uma fração ($\\alpha$) desse incremento."
   ]
  },
  {
   "cell_type": "code",
   "execution_count": 188,
   "metadata": {},
   "outputs": [],
   "source": [
    "def gradient_descent(w,X,y,alpha,nsteps):\n",
    "    cost = np.zeros(nsteps)\n",
    "    for i in range(nsteps):\n",
    "        w = w - (alpha/len(X)) * np.sum((sigmoid(X @ w.T) - y)*X, axis=0)\n",
    "        cost[i] = fcusto(w, X, y)\n",
    "    \n",
    "    return w,cost"
   ]
  },
  {
   "cell_type": "markdown",
   "metadata": {},
   "source": [
    "<hr> Separo os dados em X (independentes) e y (dependente), normalizo X e dou a condição inicial de w (coeficientes). "
   ]
  },
  {
   "cell_type": "code",
   "execution_count": 189,
   "metadata": {},
   "outputs": [
    {
     "name": "stderr",
     "output_type": "stream",
     "text": [
      "/home/wlademir/anaconda3/lib/python3.7/site-packages/ipykernel_launcher.py:3: FutureWarning: In a future version of pandas all arguments of DataFrame.drop except for the argument 'labels' will be keyword-only\n",
      "  This is separate from the ipykernel package so we can avoid doing imports until\n"
     ]
    },
    {
     "data": {
      "text/plain": [
       "array([[0.40796044, 0.10975318, 0.7734119 , 0.1772372 ]])"
      ]
     },
     "execution_count": 189,
     "metadata": {},
     "output_type": "execute_result"
    }
   ],
   "source": [
    "n_features, X, y = initiate()\n",
    "w = np.random.rand(1,n_features+1) ## valores entre 0 e 1\n",
    "w"
   ]
  },
  {
   "cell_type": "markdown",
   "metadata": {},
   "source": [
    "<hr>Incluo o valor 1 na primeira posição de cada $X_i$, para termos matrizes de coeficientes e de variáveis independentes de mesmo tamanho!\n",
    "\n",
    "OBS: Execute esta célula apenas uma vez. Caso a execute em duplicidade, é preciso chamar novamente a função initiate()"
   ]
  },
  {
   "cell_type": "code",
   "execution_count": 190,
   "metadata": {},
   "outputs": [],
   "source": [
    "X = insert_ones(X) "
   ]
  },
  {
   "cell_type": "code",
   "execution_count": 191,
   "metadata": {},
   "outputs": [
    {
     "data": {
      "text/plain": [
       "Text(0.5, 1.0, 'Erro vs. Steps')"
      ]
     },
     "execution_count": 191,
     "metadata": {},
     "output_type": "execute_result"
    },
    {
     "data": {
      "image/png": "[encoded data removed]",
      "text/plain": [
       "<Figure size 432x288 with 1 Axes>"
      ]
     },
     "metadata": {
      "needs_background": "light"
     },
     "output_type": "display_data"
    }
   ],
   "source": [
    "alpha=0.01 # taxa de aprendizado\n",
    "nsteps = 5000\n",
    "w, cost = gradient_descent(w, X, y, alpha, nsteps)\n",
    "fig, ax = plt.subplots()  \n",
    "ax.plot(np.arange(nsteps), cost, 'r')  \n",
    "ax.set_xlabel('Iterações')  \n",
    "ax.set_ylabel('Custo')  \n",
    "ax.set_title('Erro vs. Steps')  "
   ]
  },
  {
   "cell_type": "markdown",
   "metadata": {},
   "source": [
    "Vamos ver os coeficientes otimizados pela técnica do gradiente:"
   ]
  },
  {
   "cell_type": "code",
   "execution_count": 192,
   "metadata": {},
   "outputs": [
    {
     "name": "stdout",
     "output_type": "stream",
     "text": [
      "W_0=0.0817897605672859, W_1=1.029117385112905, W_2=-0.2338682933428516, W_3=0.4303114816709135\n"
     ]
    }
   ],
   "source": [
    "print('W_0={}, W_1={}, W_2={}, W_3={}'.format(w[0,0],w[0,1],w[0,2],w[0,3]))"
   ]
  },
  {
   "cell_type": "markdown",
   "metadata": {},
   "source": [
    "<hr>Vamos ver a sigmoid ajustada aos dados de SASDI (ano 0):"
   ]
  },
  {
   "cell_type": "code",
   "execution_count": 193,
   "metadata": {
    "collapsed": true,
    "jupyter": {
     "outputs_hidden": true,
     "source_hidden": true
    }
   },
   "outputs": [
    {
     "data": {
      "text/plain": [
       "<matplotlib.collections.PathCollection at 0x7f0538297d10>"
      ]
     },
     "execution_count": 193,
     "metadata": {},
     "output_type": "execute_result"
    },
    {
     "data": {
      "image/png": "[encoded data removed]",
      "text/plain": [
       "<Figure size 432x288 with 1 Axes>"
      ]
     },
     "metadata": {
      "needs_background": "light"
     },
     "output_type": "display_data"
    }
   ],
   "source": [
    "sig_ajusted=sigmoid(X @ w.T)\n",
    "xl=np.array(X @ w.T)\n",
    "fig, ax = plt.subplots(figsize=(6,4))  \n",
    "ax.scatter(xl, sig_ajusted)\n",
    "ax.plot([-2,2],[0.5,0.5])\n",
    "ax.set_xlim([-2.5,2.5])\n",
    "\n",
    "ax.scatter(sasdi,Y)\n",
    "\n",
    "\n",
    "#plt.show()\n",
    "#sns.scatterplot(x='SASDI',y='NINO3',data=df,hue='Tanom')"
   ]
  },
  {
   "cell_type": "markdown",
   "metadata": {},
   "source": [
    "<hr>"
   ]
  },
  {
   "cell_type": "markdown",
   "metadata": {},
   "source": [
    "<h1> Muito bem... </h1>\n",
    "\n",
    "Vou refazer a Regressão Logistica utilizando bibliotecas específicas, para obtermos algumas informações estatísticas relevantes acerca dos resultados:"
   ]
  },
  {
   "cell_type": "code",
   "execution_count": 194,
   "metadata": {},
   "outputs": [
    {
     "name": "stdout",
     "output_type": "stream",
     "text": [
      "                 Generalized Linear Model Regression Results                  \n",
      "==============================================================================\n",
      "Dep. Variable:                  Tanom   No. Observations:                   29\n",
      "Model:                            GLM   Df Residuals:                       25\n",
      "Model Family:                Binomial   Df Model:                            3\n",
      "Link Function:                  logit   Scale:                          1.0000\n",
      "Method:                          IRLS   Log-Likelihood:                -16.787\n",
      "Date:                Thu, 24 Feb 2022   Deviance:                       33.574\n",
      "Time:                        15:54:18   Pearson chi2:                     29.2\n",
      "No. Iterations:                     4                                         \n",
      "Covariance Type:            nonrobust                                         \n",
      "==============================================================================\n",
      "                 coef    std err          z      P>|z|      [0.025      0.975]\n",
      "------------------------------------------------------------------------------\n",
      "Intercept      0.0819      0.419      0.195      0.845      -0.739       0.903\n",
      "SASDIy0        1.0313      0.471      2.192      0.028       0.109       1.954\n",
      "SASDIy1       -0.2358      0.441     -0.535      0.593      -1.100       0.628\n",
      "NINO3          0.4319      0.435      0.994      0.320      -0.420       1.284\n",
      "==============================================================================\n"
     ]
    }
   ],
   "source": [
    "modelo = smf.glm(formula='Tanom ~ SASDIy0 + SASDIy1+ NINO3', data=df,\n",
    "                family = sm.families.Binomial()).fit()\n",
    "print(modelo.summary())\n"
   ]
  },
  {
   "cell_type": "markdown",
   "metadata": {},
   "source": [
    "<strong>Notemos:</strong>\n",
    "\n",
    "- Como as variáveis independentes foram normalizadas, podemos dizer que a variável que mais explicou o comportamento das anomalias de temperatura sobre São Paulo, entre JJA, foi o SASDIy0, que é justamente o precursor do SASD Memory Effect;\n",
    "\n",
    "- Apenas SASDIy0 apresentou p < 0.05, indicando que há evidências de que há uma associação verdadeira entre SASDIy0 e o sinal da anomalia de temperatura. Podemos dizer que há menos de 5% de chances de que essa associação não exista;\n",
    "\n",
    "- O coeficiente estimado aqui para o SASDIy0 (1.0313) é próximo ao estimado anteriormente, pela técnica da descida do gradiente com 5k iterações (W_1=1.0307).\n",
    "<hr>\n",
    "\n",
    "Vou refazer o ajuste mais uma vez, mas agora utilizando o <strong> sklearn</strong>.\n",
    "Dessa vez, separo a amostra em um conjunto de treino, com o qual faço o ajuste da função regressora, e um conjunto de teste, com o qual testarei a habilidade preditiva do modelo.\n",
    "\n",
    "<strong>Outro ponto...</strong> Vou utilizar apenas a variável independente SASDy0, pois foi a única com coeficiente estatisticamente significante."
   ]
  },
  {
   "cell_type": "code",
   "execution_count": 195,
   "metadata": {},
   "outputs": [],
   "source": [
    "\n",
    "baseline_df = df[['Tanom', 'SASDIy0', 'SASDIy1' ,'NINO3']].dropna()\n",
    "y = baseline_df.Tanom\n",
    "X = pd.get_dummies(baseline_df[['SASDIy0']], drop_first=True)\n",
    "#print(X)"
   ]
  },
  {
   "cell_type": "code",
   "execution_count": 196,
   "metadata": {},
   "outputs": [
    {
     "name": "stdout",
     "output_type": "stream",
     "text": [
      "              precision    recall  f1-score   support\n",
      "\n",
      "           0       0.69      0.64      0.67        14\n",
      "           1       0.69      0.73      0.71        15\n",
      "\n",
      "    accuracy                           0.69        29\n",
      "   macro avg       0.69      0.69      0.69        29\n",
      "weighted avg       0.69      0.69      0.69        29\n",
      "\n"
     ]
    }
   ],
   "source": [
    "model = LogisticRegression()\n",
    "model.fit(X, y)\n",
    "y_pred = model.predict(X)\n",
    "print(classification_report(y, model.predict(X)))"
   ]
  },
  {
   "cell_type": "markdown",
   "metadata": {},
   "source": [
    "<hr>\n",
    "Esses são os resultados obtidos ao se utilizar dodos os dados no ajuste do nosso modelo regressor. Obtemos um reultados de geral de aproximadamente 70%.\n",
    "\n",
    "<strong>Vamos</strong> agora utilizar a metodologia de treino e teste de modelos de \"Machine Learning\". Quero dizer: Vamos separar os dados em duas amostras: uma para obtermos a função de ajuste (treinar o modelo) e outra para testar o modelo. Fazemos isso para que o treino não seja feito com os dados utilizados na otimização dos coeficientes da função regressora.\n",
    "\n"
   ]
  },
  {
   "cell_type": "markdown",
   "metadata": {},
   "source": [
    "Pois bem. Temos, entretanto, que ao treinar o modelo com o conjunto de testes, obtemos resultados que são dependentes da amostra que utilizamos para o treino. O mesmo vale para momento de testar o modelo. Isso quer dizer que podemos ter resultados diferentes, dependendo de quais dados utilizamos para treinar e testar o modelo.\n",
    "\n",
    "Para contornar esse problema, o que faço aqui é gerar 500 ajustes diferentes, mudando as amostras de treino e teste. Os resultados abaixo mostram a distribuição da performace do modelo ao mudarmos aleatoriamente as amostras.\n",
    "\n"
   ]
  },
  {
   "cell_type": "code",
   "execution_count": 198,
   "metadata": {},
   "outputs": [
    {
     "name": "stderr",
     "output_type": "stream",
     "text": [
      "/home/wlademir/anaconda3/lib/python3.7/site-packages/sklearn/metrics/_classification.py:1272: UndefinedMetricWarning: Recall is ill-defined and being set to 0.0 due to no true samples. Use `zero_division` parameter to control this behavior.\n",
      "  _warn_prf(average, modifier, msg_start, len(result))\n",
      "/home/wlademir/anaconda3/lib/python3.7/site-packages/sklearn/metrics/_classification.py:1272: UndefinedMetricWarning: Precision is ill-defined and being set to 0.0 due to no predicted samples. Use `zero_division` parameter to control this behavior.\n",
      "  _warn_prf(average, modifier, msg_start, len(result))\n",
      "/home/wlademir/anaconda3/lib/python3.7/site-packages/sklearn/metrics/_classification.py:1272: UndefinedMetricWarning: Recall is ill-defined and being set to 0.0 due to no true samples. Use `zero_division` parameter to control this behavior.\n",
      "  _warn_prf(average, modifier, msg_start, len(result))\n",
      "/home/wlademir/anaconda3/lib/python3.7/site-packages/sklearn/metrics/_classification.py:1272: UndefinedMetricWarning: Precision is ill-defined and being set to 0.0 due to no predicted samples. Use `zero_division` parameter to control this behavior.\n",
      "  _warn_prf(average, modifier, msg_start, len(result))\n",
      "/home/wlademir/anaconda3/lib/python3.7/site-packages/sklearn/metrics/_classification.py:1272: UndefinedMetricWarning: Precision is ill-defined and being set to 0.0 due to no predicted samples. Use `zero_division` parameter to control this behavior.\n",
      "  _warn_prf(average, modifier, msg_start, len(result))\n",
      "/home/wlademir/anaconda3/lib/python3.7/site-packages/sklearn/metrics/_classification.py:1272: UndefinedMetricWarning: Precision is ill-defined and being set to 0.0 due to no predicted samples. Use `zero_division` parameter to control this behavior.\n",
      "  _warn_prf(average, modifier, msg_start, len(result))\n",
      "/home/wlademir/anaconda3/lib/python3.7/site-packages/sklearn/metrics/_classification.py:1272: UndefinedMetricWarning: Precision is ill-defined and being set to 0.0 due to no predicted samples. Use `zero_division` parameter to control this behavior.\n",
      "  _warn_prf(average, modifier, msg_start, len(result))\n",
      "/home/wlademir/anaconda3/lib/python3.7/site-packages/sklearn/metrics/_classification.py:1272: UndefinedMetricWarning: Precision is ill-defined and being set to 0.0 due to no predicted samples. Use `zero_division` parameter to control this behavior.\n",
      "  _warn_prf(average, modifier, msg_start, len(result))\n",
      "/home/wlademir/anaconda3/lib/python3.7/site-packages/sklearn/metrics/_classification.py:1272: UndefinedMetricWarning: Recall is ill-defined and being set to 0.0 due to no true samples. Use `zero_division` parameter to control this behavior.\n",
      "  _warn_prf(average, modifier, msg_start, len(result))\n"
     ]
    },
    {
     "name": "stdout",
     "output_type": "stream",
     "text": [
      "0.6666666666666666 0.6666666666666666 0.6666666666666666 0.6666666666666666\n"
     ]
    },
    {
     "data": {
      "image/png": "[encoded data removed]",
      "text/plain": [
       "<Figure size 864x864 with 4 Axes>"
      ]
     },
     "metadata": {
      "needs_background": "light"
     },
     "output_type": "display_data"
    }
   ],
   "source": [
    "nereast=1\n",
    "nresample=500\n",
    "score=np.zeros(nresample)\n",
    "acuracia=np.zeros(nresample)\n",
    "precisao=np.zeros(nresample)\n",
    "recall=np.zeros(nresample)\n",
    "for rand in range(0,nresample):\n",
    "    from sklearn.model_selection import train_test_split\n",
    "    x_train, x_test, y_train, y_test = train_test_split(X, y, test_size = 0.2)\n",
    "    model = LogisticRegression()\n",
    "    model.fit(x_train, y_train)\n",
    "    y_pred = model.predict(x_test)\n",
    "    score[rand]=model.score(x_test, y_test)\n",
    "    recall[rand]=recall_score(y_test, y_pred)\n",
    "    acuracia[rand]=accuracy_score(y_test, y_pred)\n",
    "    precisao[rand]=precision_score(y_test, y_pred)\n",
    "\n",
    "\n",
    "metricas = pd.DataFrame({'Score':score,'Acuracia':acuracia,'Precisao':precisao,'Recall':recall})\n",
    "features=('Score','Acuracia','Precisao','Recall')\n",
    "fig, axs = plt.subplots(nrows=2, ncols=2, figsize=(12, 12))\n",
    "for col, ax in zip(features, axs.ravel()):\n",
    "    x=metricas.loc[:,col]\n",
    "    sns.distplot(x, ax=ax)\n",
    "    ax.set_title(col)\n",
    "    #    sns.distplot(x=metricas,x=col,bins=bins,ax=axs)\n",
    "print(np.median(score),np.median(acuracia),np.median(precisao),np.median(recall))"
   ]
  },
  {
   "cell_type": "markdown",
   "metadata": {},
   "source": [
    "<hr>\n",
    "Os resultados de performace de Acurácia, Precisão e Recall ficam distribuidos em torno de 67%. Relembrando que:"
   ]
  },
  {
   "cell_type": "markdown",
   "metadata": {},
   "source": [
    "<hr>\n",
    "<strong>Acurácia</strong> : Indica a performace geral do modelo de classificação. Dentre todos os eventos, quantos o modelo classificou corretamente \n",
    "\n",
    "$$acurácia =\\frac{TP+TN}{FP+TP+FN+TN}$$\n",
    "\n",
    "<strong>Precisão </strong>: Dentre todos os eventos positivos, quantos o modelo acertou sua classificação.\n",
    "\n",
    "$$precisao =\\frac{TP}{FP+TP}$$\n",
    "\n",
    "\n",
    "<strong>Recall</strong>: A proporção das classificações Positivas que foram corretamente identificadas\n",
    "$$recall =\\frac{TP}{FN+TP}$$\n",
    "\n"
   ]
  },
  {
   "cell_type": "markdown",
   "metadata": {},
   "source": [
    "<h1>Conclusões</h1>\n",
    "\n",
    "Observamos que, dentro do conjunto de treinamento, o modelo apresentou valores de acurácia, precisão e recall de aproximadamente 70%, e, durante o teste do modelo, uma distribuição de resultados de performace em torno de 66%. Embora não sejam números expressivamente bons, vale notar que a previsibilidade sazonal tem ainda limitações temporais e espaciais bastante significativas, de forma que 70% de precião e recall para uma previsão de 12 meses é, sim, um resultado bastante interessante. É importante também notar que, embora ENSO e SASD sejam conhecidos por seus efeitos no clima regional, o modelo regressor apontou para o SASDI_y0 como seu principal componente. Esses resultados evidenciam a importancia do SASD memory effect para o clima regional do sudeste brasileiro e seu real potencial na aplicação como índice preditivo.\n"
   ]
  },
  {
   "cell_type": "code",
   "execution_count": null,
   "metadata": {},
   "outputs": [],
   "source": []
  }
 ],
 "metadata": {
  "kernelspec": {
   "display_name": "Python 3 (ipykernel)",
   "language": "python",
   "name": "python3"
  },
  "language_info": {
   "codemirror_mode": {
    "name": "ipython",
    "version": 3
   },
   "file_extension": ".py",
   "mimetype": "text/x-python",
   "name": "python",
   "nbconvert_exporter": "python",
   "pygments_lexer": "ipython3",
   "version": "3.7.6"
  }
 },
 "nbformat": 4,
 "nbformat_minor": 4
}
